{
 "cells": [
  {
   "cell_type": "code",
   "execution_count": 2,
   "metadata": {
    "collapsed": true
   },
   "outputs": [],
   "source": [
    "import pandas as pd"
   ]
  },
  {
   "cell_type": "code",
   "execution_count": 3,
   "outputs": [
    {
     "data": {
      "text/plain": "                                                newspaper       Datum\n0                                   Berliner Zeitung 2000  1999-11-30\n1                                   Berliner Zeitung 1999  0002-11-30\n2                                   Berliner Zeitung 1996  0002-11-30\n3                                Süddeutsche Zeitung 1996  0002-11-30\n4                                Süddeutsche Zeitung 1995  0002-11-30\n...                                                   ...         ...\n198325              http://www.schnitt.de/202,6535,01&rss  2010-12-31\n198326  http://www.schwaebische.de/politik/politik-akt...  2010-12-31\n198327  http://www.spiegel.de/sport/sonst/0,1518,73359...  2010-12-31\n198328  http://www.wallstreet-online.de/nachricht/3077...  2010-12-31\n198329     http://www.zdf.de/ZDFmediathek/content/1225818  2010-12-31\n\n[198330 rows x 2 columns]",
      "text/html": "<div>\n<style scoped>\n    .dataframe tbody tr th:only-of-type {\n        vertical-align: middle;\n    }\n\n    .dataframe tbody tr th {\n        vertical-align: top;\n    }\n\n    .dataframe thead th {\n        text-align: right;\n    }\n</style>\n<table border=\"1\" class=\"dataframe\">\n  <thead>\n    <tr style=\"text-align: right;\">\n      <th></th>\n      <th>newspaper</th>\n      <th>Datum</th>\n    </tr>\n  </thead>\n  <tbody>\n    <tr>\n      <th>0</th>\n      <td>Berliner Zeitung 2000</td>\n      <td>1999-11-30</td>\n    </tr>\n    <tr>\n      <th>1</th>\n      <td>Berliner Zeitung 1999</td>\n      <td>0002-11-30</td>\n    </tr>\n    <tr>\n      <th>2</th>\n      <td>Berliner Zeitung 1996</td>\n      <td>0002-11-30</td>\n    </tr>\n    <tr>\n      <th>3</th>\n      <td>Süddeutsche Zeitung 1996</td>\n      <td>0002-11-30</td>\n    </tr>\n    <tr>\n      <th>4</th>\n      <td>Süddeutsche Zeitung 1995</td>\n      <td>0002-11-30</td>\n    </tr>\n    <tr>\n      <th>...</th>\n      <td>...</td>\n      <td>...</td>\n    </tr>\n    <tr>\n      <th>198325</th>\n      <td>http://www.schnitt.de/202,6535,01&amp;rss</td>\n      <td>2010-12-31</td>\n    </tr>\n    <tr>\n      <th>198326</th>\n      <td>http://www.schwaebische.de/politik/politik-akt...</td>\n      <td>2010-12-31</td>\n    </tr>\n    <tr>\n      <th>198327</th>\n      <td>http://www.spiegel.de/sport/sonst/0,1518,73359...</td>\n      <td>2010-12-31</td>\n    </tr>\n    <tr>\n      <th>198328</th>\n      <td>http://www.wallstreet-online.de/nachricht/3077...</td>\n      <td>2010-12-31</td>\n    </tr>\n    <tr>\n      <th>198329</th>\n      <td>http://www.zdf.de/ZDFmediathek/content/1225818</td>\n      <td>2010-12-31</td>\n    </tr>\n  </tbody>\n</table>\n<p>198330 rows × 2 columns</p>\n</div>"
     },
     "execution_count": 3,
     "metadata": {},
     "output_type": "execute_result"
    }
   ],
   "source": [
    "content = pd.read_table('data/deu_mixed-typical_2011_300K-sources.txt', header = None, names = [\"Nr.\", \"newspaper\", \"Datum\"])\n",
    "del content[\"Nr.\"]\n",
    "content"
   ],
   "metadata": {
    "collapsed": false
   }
  },
  {
   "cell_type": "code",
   "execution_count": 24,
   "outputs": [
    {
     "data": {
      "text/plain": "                                                newspaper       Datum\n0                                   Berliner Zeitung 2000  1999-11-30\n27      <a href=\"http://www.bibliotheca.de/\">www.bibli...  2002-11-30\n28            <a href=\"http://www.pnp.de/\">www.pnp.de</a>  2002-11-30\n30      <a href=\"http://www.tv-scripte.de/\">www.tv-scr...  2002-11-30\n33      <a href=\"http://www.paranormal.de/\">www.parano...  2002-11-30\n...                                                   ...         ...\n198325              http://www.schnitt.de/202,6535,01&rss  2010-12-31\n198326  http://www.schwaebische.de/politik/politik-akt...  2010-12-31\n198327  http://www.spiegel.de/sport/sonst/0,1518,73359...  2010-12-31\n198328  http://www.wallstreet-online.de/nachricht/3077...  2010-12-31\n198329     http://www.zdf.de/ZDFmediathek/content/1225818  2010-12-31\n\n[197789 rows x 2 columns]",
      "text/html": "<div>\n<style scoped>\n    .dataframe tbody tr th:only-of-type {\n        vertical-align: middle;\n    }\n\n    .dataframe tbody tr th {\n        vertical-align: top;\n    }\n\n    .dataframe thead th {\n        text-align: right;\n    }\n</style>\n<table border=\"1\" class=\"dataframe\">\n  <thead>\n    <tr style=\"text-align: right;\">\n      <th></th>\n      <th>newspaper</th>\n      <th>Datum</th>\n    </tr>\n  </thead>\n  <tbody>\n    <tr>\n      <th>0</th>\n      <td>Berliner Zeitung 2000</td>\n      <td>1999-11-30</td>\n    </tr>\n    <tr>\n      <th>27</th>\n      <td>&lt;a href=\"http://www.bibliotheca.de/\"&gt;www.bibli...</td>\n      <td>2002-11-30</td>\n    </tr>\n    <tr>\n      <th>28</th>\n      <td>&lt;a href=\"http://www.pnp.de/\"&gt;www.pnp.de&lt;/a&gt;</td>\n      <td>2002-11-30</td>\n    </tr>\n    <tr>\n      <th>30</th>\n      <td>&lt;a href=\"http://www.tv-scripte.de/\"&gt;www.tv-scr...</td>\n      <td>2002-11-30</td>\n    </tr>\n    <tr>\n      <th>33</th>\n      <td>&lt;a href=\"http://www.paranormal.de/\"&gt;www.parano...</td>\n      <td>2002-11-30</td>\n    </tr>\n    <tr>\n      <th>...</th>\n      <td>...</td>\n      <td>...</td>\n    </tr>\n    <tr>\n      <th>198325</th>\n      <td>http://www.schnitt.de/202,6535,01&amp;rss</td>\n      <td>2010-12-31</td>\n    </tr>\n    <tr>\n      <th>198326</th>\n      <td>http://www.schwaebische.de/politik/politik-akt...</td>\n      <td>2010-12-31</td>\n    </tr>\n    <tr>\n      <th>198327</th>\n      <td>http://www.spiegel.de/sport/sonst/0,1518,73359...</td>\n      <td>2010-12-31</td>\n    </tr>\n    <tr>\n      <th>198328</th>\n      <td>http://www.wallstreet-online.de/nachricht/3077...</td>\n      <td>2010-12-31</td>\n    </tr>\n    <tr>\n      <th>198329</th>\n      <td>http://www.zdf.de/ZDFmediathek/content/1225818</td>\n      <td>2010-12-31</td>\n    </tr>\n  </tbody>\n</table>\n<p>197789 rows × 2 columns</p>\n</div>"
     },
     "execution_count": 24,
     "metadata": {},
     "output_type": "execute_result"
    }
   ],
   "source": [
    "content.drop(content.index[content[\"Datum\"] == \"0002-11-30\"], inplace=True)\n",
    "content"
   ],
   "metadata": {
    "collapsed": false
   }
  },
  {
   "cell_type": "code",
   "execution_count": 55,
   "outputs": [
    {
     "data": {
      "text/plain": "'1994-11-30'"
     },
     "execution_count": 55,
     "metadata": {},
     "output_type": "execute_result"
    }
   ],
   "source": [
    "content.Datum.min()"
   ],
   "metadata": {
    "collapsed": false
   }
  },
  {
   "cell_type": "code",
   "execution_count": 56,
   "outputs": [
    {
     "data": {
      "text/plain": "'2010-12-31'"
     },
     "execution_count": 56,
     "metadata": {},
     "output_type": "execute_result"
    }
   ],
   "source": [
    "content.Datum.max()"
   ],
   "metadata": {
    "collapsed": false
   }
  },
  {
   "cell_type": "markdown",
   "source": [],
   "metadata": {
    "collapsed": false
   }
  },
  {
   "cell_type": "code",
   "execution_count": 33,
   "outputs": [
    {
     "name": "stdout",
     "output_type": "stream",
     "text": [
      "2002    60421\n",
      "2009    41828\n",
      "2008    33094\n",
      "2010    30245\n",
      "2007    19855\n",
      "2006     4691\n",
      "2005     2730\n",
      "2004     2039\n",
      "2003     1946\n",
      "2001      605\n",
      "1998       72\n",
      "1999       72\n",
      "2000       65\n",
      "1997       63\n",
      "1996       61\n",
      "1995        1\n",
      "1994        1\n",
      "Name: Datum, dtype: int64\n"
     ]
    }
   ],
   "source": [
    "freq_date = content['Datum'].apply(lambda x: x[0:4]).value_counts()\n",
    "print(freq_date)"
   ],
   "metadata": {
    "collapsed": false
   }
  },
  {
   "cell_type": "code",
   "execution_count": 40,
   "outputs": [
    {
     "name": "stdout",
     "output_type": "stream",
     "text": [
      "http://www.lvz-online.de/                                                      11\n",
      "http://www.augsburger-allgemeine.de/                                           11\n",
      "http://www.welt.de/                                                             8\n",
      "http://www.faz.net/                                                             7\n",
      "http://www.tagesspiegel-berlin.de/                                              6\n",
      "                                                                               ..\n",
      "<a href=\"http://www.vep-bayern.de/\">www.vep-bayern.de</a>                       1\n",
      "<a href=\"http://www.vera-kopetz.de/\">www.vera-kopetz.de</a>                     1\n",
      "<a href=\"http://www.verband-druck-bw.de/\">www.verband-druck-bw.de</a>           1\n",
      "<a href=\"http://www.verband-dt-am-clubs.de/\">www.verband-dt-am-clubs.de</a>     1\n",
      "http://www.zdf.de/ZDFmediathek/content/1225818                                  1\n",
      "Name: newspaper, Length: 197691, dtype: int64\n"
     ]
    }
   ],
   "source": [
    "freq_newspaper = content['newspaper'].value_counts()\n",
    "print(freq_newspaper)"
   ],
   "metadata": {
    "collapsed": false
   }
  },
  {
   "cell_type": "code",
   "execution_count": 50,
   "outputs": [
    {
     "data": {
      "text/plain": "<AxesSubplot: ylabel='Frequency'>"
     },
     "execution_count": 50,
     "metadata": {},
     "output_type": "execute_result"
    },
    {
     "data": {
      "text/plain": "<Figure size 640x480 with 1 Axes>",
      "image/png": "[encoded data removed]"
     },
     "metadata": {},
     "output_type": "display_data"
    }
   ],
   "source": [
    "import matplotlib.pyplot as plt\n",
    "freq_date.plot.hist()"
   ],
   "metadata": {
    "collapsed": false
   }
  },
  {
   "cell_type": "code",
   "execution_count": 50,
   "outputs": [],
   "source": [],
   "metadata": {
    "collapsed": false
   }
  },
  {
   "cell_type": "code",
   "execution_count": 51,
   "outputs": [
    {
     "data": {
      "text/plain": "(array([60493.,  1947.,   605.,  2040.,  2730., 37785., 41889., 19855.,\n        30308.,   137.]),\n array([ 0. ,  1.6,  3.2,  4.8,  6.4,  8. ,  9.6, 11.2, 12.8, 14.4, 16. ]),\n <BarContainer object of 10 artists>)"
     },
     "execution_count": 51,
     "metadata": {},
     "output_type": "execute_result"
    },
    {
     "data": {
      "text/plain": "<Figure size 640x480 with 1 Axes>",
      "image/png": "[encoded data removed]"
     },
     "metadata": {},
     "output_type": "display_data"
    }
   ],
   "source": [
    "import matplotlib.pyplot as plt\n",
    "test = content['Datum'].apply(lambda x: x[0:4])\n",
    "plt.hist(test)\n"
   ],
   "metadata": {
    "collapsed": false
   }
  },
  {
   "cell_type": "code",
   "execution_count": null,
   "outputs": [],
   "source": [],
   "metadata": {
    "collapsed": false
   }
  }
 ],
 "metadata": {
  "kernelspec": {
   "display_name": "Python 3",
   "language": "python",
   "name": "python3"
  },
  "language_info": {
   "codemirror_mode": {
    "name": "ipython",
    "version": 2
   },
   "file_extension": ".py",
   "mimetype": "text/x-python",
   "name": "python",
   "nbconvert_exporter": "python",
   "pygments_lexer": "ipython2",
   "version": "2.7.6"
  }
 },
 "nbformat": 4,
 "nbformat_minor": 0
}
