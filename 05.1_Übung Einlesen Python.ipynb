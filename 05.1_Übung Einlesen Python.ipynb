{
 "cells": [
  {
   "cell_type": "code",
   "execution_count": null,
   "metadata": {
    "collapsed": true
   },
   "outputs": [],
   "source": []
  },
  {
   "cell_type": "code",
   "execution_count": 3,
   "outputs": [],
   "source": [
    "content = []\n",
    "\n",
    "import csv\n",
    "with open('data/deu_mixed-typical_2011_300K-sources.txt', \"r\", encoding=\"utf-8\") as f:\n",
    "    reader = csv.reader(f, delimiter= '\\t')\n",
    "    for row in reader:\n",
    "        content.append(row)"
   ],
   "metadata": {
    "collapsed": false
   }
  },
  {
   "cell_type": "code",
   "execution_count": 4,
   "outputs": [
    {
     "data": {
      "text/plain": "[['1', 'Berliner Zeitung 2000', '1999-11-30'],\n ['2', 'Berliner Zeitung 1999', '0002-11-30'],\n ['3', 'Berliner Zeitung 1996', '0002-11-30'],\n ['4', 'Süddeutsche Zeitung 1996', '0002-11-30'],\n ['5', 'Süddeutsche Zeitung 1995', '0002-11-30'],\n ['6', 'Berliner Zeitung 1998', '0002-11-30'],\n ['7', 'Berliner Zeitung 1997', '0002-11-30'],\n ['8', 'DIE WELT 2000', '0002-11-30'],\n ['9', 'Berliner Zeitung 1995', '0002-11-30'],\n ['10', 'Welt 1999', '0002-11-30']]"
     },
     "execution_count": 4,
     "metadata": {},
     "output_type": "execute_result"
    }
   ],
   "source": [
    "content[:10]"
   ],
   "metadata": {
    "collapsed": false
   }
  },
  {
   "cell_type": "code",
   "execution_count": 10,
   "outputs": [
    {
     "data": {
      "text/plain": "198330"
     },
     "execution_count": 10,
     "metadata": {},
     "output_type": "execute_result"
    }
   ],
   "source": [
    "len(content)"
   ],
   "metadata": {
    "collapsed": false
   }
  },
  {
   "cell_type": "code",
   "execution_count": 11,
   "outputs": [
    {
     "data": {
      "text/plain": "[('http://www.augsburger-allgemeine.de/', 11),\n ('http://www.lvz-online.de/', 11),\n ('http://www.welt.de/', 8),\n ('http://www.faz.net/', 7),\n ('http://www.tagesspiegel-berlin.de/', 6),\n ('http://www.tagesspiegel.de/', 6),\n ('http://www.rundschau-online.de/', 5),\n ('http://www.espace.ch/artikel_4693.html', 5),\n ('http://www.oberpfalznetz.de/', 4),\n ('http://www.lr-online.de/', 4)]"
     },
     "execution_count": 11,
     "metadata": {},
     "output_type": "execute_result"
    }
   ],
   "source": [
    "from collections import Counter\n",
    "\n",
    "zeitungscount = Counter([item[1]for item in content])\n",
    "zeitungscount.most_common(10)"
   ],
   "metadata": {
    "collapsed": false
   }
  },
  {
   "cell_type": "code",
   "execution_count": 12,
   "outputs": [
    {
     "data": {
      "text/plain": "[('2002-11-30', 58780),\n ('0002-11-30', 541),\n ('2010-01-12', 452),\n ('2010-01-16', 450),\n ('2010-01-11', 438),\n ('2010-01-15', 433),\n ('2010-01-13', 389),\n ('2010-01-14', 381),\n ('2010-01-10', 327),\n ('2010-01-06', 266)]"
     },
     "execution_count": 12,
     "metadata": {},
     "output_type": "execute_result"
    }
   ],
   "source": [
    "dailycount = Counter([item[2]for item in content])\n",
    "dailycount.most_common(10)"
   ],
   "metadata": {
    "collapsed": false
   }
  },
  {
   "cell_type": "code",
   "execution_count": 21,
   "outputs": [
    {
     "data": {
      "text/plain": "[('2002', 60421),\n ('2009', 41828),\n ('2008', 33094),\n ('2010', 30245),\n ('2007', 19855),\n ('2006', 4691),\n ('2005', 2730),\n ('2004', 2039),\n ('2003', 1946),\n ('2001', 605),\n ('1999', 72),\n ('1998', 72),\n ('2000', 65),\n ('1997', 63),\n ('1996', 61),\n ('1994', 1),\n ('1995', 1)]"
     },
     "execution_count": 21,
     "metadata": {},
     "output_type": "execute_result"
    }
   ],
   "source": [
    "yearcount = Counter([item[2][0:4]for item in content])\n",
    "del yearcount['0002']\n",
    "yearcount.most_common(100)"
   ],
   "metadata": {
    "collapsed": false
   }
  },
  {
   "cell_type": "code",
   "execution_count": 18,
   "outputs": [],
   "source": [],
   "metadata": {
    "collapsed": false
   }
  },
  {
   "cell_type": "code",
   "execution_count": null,
   "outputs": [],
   "source": [],
   "metadata": {
    "collapsed": false
   }
  }
 ],
 "metadata": {
  "kernelspec": {
   "display_name": "Python 3",
   "language": "python",
   "name": "python3"
  },
  "language_info": {
   "codemirror_mode": {
    "name": "ipython",
    "version": 2
   },
   "file_extension": ".py",
   "mimetype": "text/x-python",
   "name": "python",
   "nbconvert_exporter": "python",
   "pygments_lexer": "ipython2",
   "version": "2.7.6"
  }
 },
 "nbformat": 4,
 "nbformat_minor": 0
}
