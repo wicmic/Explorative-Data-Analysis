{
 "cells": [
  {
   "cell_type": "code",
   "execution_count": null,
   "metadata": {
    "collapsed": true
   },
   "outputs": [],
   "source": []
  },
  {
   "cell_type": "code",
   "execution_count": 1,
   "outputs": [],
   "source": [
    "import pandas as pd\n",
    "import numpy as np\n",
    "from matplotlib import pyplot as plt"
   ],
   "metadata": {
    "collapsed": false
   }
  },
  {
   "cell_type": "code",
   "execution_count": 3,
   "outputs": [
    {
     "name": "stdout",
     "output_type": "stream",
     "text": [
      "[[5.1, 3.5, 1.4, 0.2, 'Iris-setosa'], [4.9, 3.0, 1.4, 0.2, 'Iris-setosa'], [4.7, 3.2, 1.3, 0.2, 'Iris-setosa'], [4.6, 3.1, 1.5, 0.2, 'Iris-setosa'], [5.0, 3.6, 1.4, 0.2, 'Iris-setosa'], [5.4, 3.9, 1.7, 0.4, 'Iris-setosa'], [4.6, 3.4, 1.4, 0.3, 'Iris-setosa'], [5.0, 3.4, 1.5, 0.2, 'Iris-setosa'], [4.4, 2.9, 1.4, 0.2, 'Iris-setosa'], [4.9, 3.1, 1.5, 0.1, 'Iris-setosa'], [5.4, 3.7, 1.5, 0.2, 'Iris-setosa'], [4.8, 3.4, 1.6, 0.2, 'Iris-setosa'], [4.8, 3.0, 1.4, 0.1, 'Iris-setosa'], [4.3, 3.0, 1.1, 0.1, 'Iris-setosa'], [5.8, 4.0, 1.2, 0.2, 'Iris-setosa'], [5.7, 4.4, 1.5, 0.4, 'Iris-setosa'], [5.4, 3.9, 1.3, 0.4, 'Iris-setosa'], [5.1, 3.5, 1.4, 0.3, 'Iris-setosa'], [5.7, 3.8, 1.7, 0.3, 'Iris-setosa'], [5.1, 3.8, 1.5, 0.3, 'Iris-setosa'], [5.4, 3.4, 1.7, 0.2, 'Iris-setosa'], [5.1, 3.7, 1.5, 0.4, 'Iris-setosa'], [4.6, 3.6, 1.0, 0.2, 'Iris-setosa'], [5.1, 3.3, 1.7, 0.5, 'Iris-setosa'], [4.8, 3.4, 1.9, 0.2, 'Iris-setosa'], [5.0, 3.0, 1.6, 0.2, 'Iris-setosa'], [5.0, 3.4, 1.6, 0.4, 'Iris-setosa'], [5.2, 3.5, 1.5, 0.2, 'Iris-setosa'], [5.2, 3.4, 1.4, 0.2, 'Iris-setosa'], [4.7, 3.2, 1.6, 0.2, 'Iris-setosa'], [4.8, 3.1, 1.6, 0.2, 'Iris-setosa'], [5.4, 3.4, 1.5, 0.4, 'Iris-setosa'], [5.2, 4.1, 1.5, 0.1, 'Iris-setosa'], [5.5, 4.2, 1.4, 0.2, 'Iris-setosa'], [4.9, 3.1, 1.5, 0.1, 'Iris-setosa'], [5.0, 3.2, 1.2, 0.2, 'Iris-setosa'], [5.5, 3.5, 1.3, 0.2, 'Iris-setosa'], [4.9, 3.1, 1.5, 0.1, 'Iris-setosa'], [4.4, 3.0, 1.3, 0.2, 'Iris-setosa'], [5.1, 3.4, 1.5, 0.2, 'Iris-setosa'], [5.0, 3.5, 1.3, 0.3, 'Iris-setosa'], [4.5, 2.3, 1.3, 0.3, 'Iris-setosa'], [4.4, 3.2, 1.3, 0.2, 'Iris-setosa'], [5.0, 3.5, 1.6, 0.6, 'Iris-setosa'], [5.1, 3.8, 1.9, 0.4, 'Iris-setosa'], [4.8, 3.0, 1.4, 0.3, 'Iris-setosa'], [5.1, 3.8, 1.6, 0.2, 'Iris-setosa'], [4.6, 3.2, 1.4, 0.2, 'Iris-setosa'], [5.3, 3.7, 1.5, 0.2, 'Iris-setosa'], [5.0, 3.3, 1.4, 0.2, 'Iris-setosa'], [7.0, 3.2, 4.7, 1.4, 'Iris-versicolor'], [6.4, 3.2, 4.5, 1.5, 'Iris-versicolor'], [6.9, 3.1, 4.9, 1.5, 'Iris-versicolor'], [5.5, 2.3, 4.0, 1.3, 'Iris-versicolor'], [6.5, 2.8, 4.6, 1.5, 'Iris-versicolor'], [5.7, 2.8, 4.5, 1.3, 'Iris-versicolor'], [6.3, 3.3, 4.7, 1.6, 'Iris-versicolor'], [4.9, 2.4, 3.3, 1.0, 'Iris-versicolor'], [6.6, 2.9, 4.6, 1.3, 'Iris-versicolor'], [5.2, 2.7, 3.9, 1.4, 'Iris-versicolor'], [5.0, 2.0, 3.5, 1.0, 'Iris-versicolor'], [5.9, 3.0, 4.2, 1.5, 'Iris-versicolor'], [6.0, 2.2, 4.0, 1.0, 'Iris-versicolor'], [6.1, 2.9, 4.7, 1.4, 'Iris-versicolor'], [5.6, 2.9, 3.6, 1.3, 'Iris-versicolor'], [6.7, 3.1, 4.4, 1.4, 'Iris-versicolor'], [5.6, 3.0, 4.5, 1.5, 'Iris-versicolor'], [5.8, 2.7, 4.1, 1.0, 'Iris-versicolor'], [6.2, 2.2, 4.5, 1.5, 'Iris-versicolor'], [5.6, 2.5, 3.9, 1.1, 'Iris-versicolor'], [5.9, 3.2, 4.8, 1.8, 'Iris-versicolor'], [6.1, 2.8, 4.0, 1.3, 'Iris-versicolor'], [6.3, 2.5, 4.9, 1.5, 'Iris-versicolor'], [6.1, 2.8, 4.7, 1.2, 'Iris-versicolor'], [6.4, 2.9, 4.3, 1.3, 'Iris-versicolor'], [6.6, 3.0, 4.4, 1.4, 'Iris-versicolor'], [6.8, 2.8, 4.8, 1.4, 'Iris-versicolor'], [6.7, 3.0, 5.0, 1.7, 'Iris-versicolor'], [6.0, 2.9, 4.5, 1.5, 'Iris-versicolor'], [5.7, 2.6, 3.5, 1.0, 'Iris-versicolor'], [5.5, 2.4, 3.8, 1.1, 'Iris-versicolor'], [5.5, 2.4, 3.7, 1.0, 'Iris-versicolor'], [5.8, 2.7, 3.9, 1.2, 'Iris-versicolor'], [6.0, 2.7, 5.1, 1.6, 'Iris-versicolor'], [5.4, 3.0, 4.5, 1.5, 'Iris-versicolor'], [6.0, 3.4, 4.5, 1.6, 'Iris-versicolor'], [6.7, 3.1, 4.7, 1.5, 'Iris-versicolor'], [6.3, 2.3, 4.4, 1.3, 'Iris-versicolor'], [5.6, 3.0, 4.1, 1.3, 'Iris-versicolor'], [5.5, 2.5, 4.0, 1.3, 'Iris-versicolor'], [5.5, 2.6, 4.4, 1.2, 'Iris-versicolor'], [6.1, 3.0, 4.6, 1.4, 'Iris-versicolor'], [5.8, 2.6, 4.0, 1.2, 'Iris-versicolor'], [5.0, 2.3, 3.3, 1.0, 'Iris-versicolor'], [5.6, 2.7, 4.2, 1.3, 'Iris-versicolor'], [5.7, 3.0, 4.2, 1.2, 'Iris-versicolor'], [5.7, 2.9, 4.2, 1.3, 'Iris-versicolor'], [6.2, 2.9, 4.3, 1.3, 'Iris-versicolor'], [5.1, 2.5, 3.0, 1.1, 'Iris-versicolor'], [5.7, 2.8, 4.1, 1.3, 'Iris-versicolor'], [6.3, 3.3, 6.0, 2.5, 'Iris-virginica'], [5.8, 2.7, 5.1, 1.9, 'Iris-virginica'], [7.1, 3.0, 5.9, 2.1, 'Iris-virginica'], [6.3, 2.9, 5.6, 1.8, 'Iris-virginica'], [6.5, 3.0, 5.8, 2.2, 'Iris-virginica'], [7.6, 3.0, 6.6, 2.1, 'Iris-virginica'], [4.9, 2.5, 4.5, 1.7, 'Iris-virginica'], [7.3, 2.9, 6.3, 1.8, 'Iris-virginica'], [6.7, 2.5, 5.8, 1.8, 'Iris-virginica'], [7.2, 3.6, 6.1, 2.5, 'Iris-virginica'], [6.5, 3.2, 5.1, 2.0, 'Iris-virginica'], [6.4, 2.7, 5.3, 1.9, 'Iris-virginica'], [6.8, 3.0, 5.5, 2.1, 'Iris-virginica'], [5.7, 2.5, 5.0, 2.0, 'Iris-virginica'], [5.8, 2.8, 5.1, 2.4, 'Iris-virginica'], [6.4, 3.2, 5.3, 2.3, 'Iris-virginica'], [6.5, 3.0, 5.5, 1.8, 'Iris-virginica'], [7.7, 3.8, 6.7, 2.2, 'Iris-virginica'], [7.7, 2.6, 6.9, 2.3, 'Iris-virginica'], [6.0, 2.2, 5.0, 1.5, 'Iris-virginica'], [6.9, 3.2, 5.7, 2.3, 'Iris-virginica'], [5.6, 2.8, 4.9, 2.0, 'Iris-virginica'], [7.7, 2.8, 6.7, 2.0, 'Iris-virginica'], [6.3, 2.7, 4.9, 1.8, 'Iris-virginica'], [6.7, 3.3, 5.7, 2.1, 'Iris-virginica'], [7.2, 3.2, 6.0, 1.8, 'Iris-virginica'], [6.2, 2.8, 4.8, 1.8, 'Iris-virginica'], [6.1, 3.0, 4.9, 1.8, 'Iris-virginica'], [6.4, 2.8, 5.6, 2.1, 'Iris-virginica'], [7.2, 3.0, 5.8, 1.6, 'Iris-virginica'], [7.4, 2.8, 6.1, 1.9, 'Iris-virginica'], [7.9, 3.8, 6.4, 2.0, 'Iris-virginica'], [6.4, 2.8, 5.6, 2.2, 'Iris-virginica'], [6.3, 2.8, 5.1, 1.5, 'Iris-virginica'], [6.1, 2.6, 5.6, 1.4, 'Iris-virginica'], [7.7, 3.0, 6.1, 2.3, 'Iris-virginica'], [6.3, 3.4, 5.6, 2.4, 'Iris-virginica'], [6.4, 3.1, 5.5, 1.8, 'Iris-virginica'], [6.0, 3.0, 4.8, 1.8, 'Iris-virginica'], [6.9, 3.1, 5.4, 2.1, 'Iris-virginica'], [6.7, 3.1, 5.6, 2.4, 'Iris-virginica'], [6.9, 3.1, 5.1, 2.3, 'Iris-virginica'], [5.8, 2.7, 5.1, 1.9, 'Iris-virginica'], [6.8, 3.2, 5.9, 2.3, 'Iris-virginica'], [6.7, 3.3, 5.7, 2.5, 'Iris-virginica'], [6.7, 3.0, 5.2, 2.3, 'Iris-virginica'], [6.3, 2.5, 5.0, 1.9, 'Iris-virginica'], [6.5, 3.0, 5.2, 2.0, 'Iris-virginica'], [6.2, 3.4, 5.4, 2.3, 'Iris-virginica'], [5.9, 3.0, 5.1, 1.8, 'Iris-virginica']]\n"
     ]
    }
   ],
   "source": [
    "blumen = []\n",
    "zaehler = 0\n",
    "with open('data/iris.tab') as f:\n",
    "   for line in f:\n",
    "       zaehler += 1\n",
    "       if zaehler > 3:\n",
    "           zeile = line.strip().split(\"\\t\")\n",
    "           blumen.append([float(zeile[0]), float(zeile[1]), float(zeile[2]), float(zeile[3]), zeile[4]])\n",
    "print(blumen)"
   ],
   "metadata": {
    "collapsed": false
   }
  },
  {
   "cell_type": "code",
   "execution_count": 4,
   "outputs": [
    {
     "data": {
      "text/plain": "[5.1,\n 4.9,\n 4.7,\n 4.6,\n 5.0,\n 5.4,\n 4.6,\n 5.0,\n 4.4,\n 4.9,\n 5.4,\n 4.8,\n 4.8,\n 4.3,\n 5.8,\n 5.7,\n 5.4,\n 5.1,\n 5.7,\n 5.1,\n 5.4,\n 5.1,\n 4.6,\n 5.1,\n 4.8,\n 5.0,\n 5.0,\n 5.2,\n 5.2,\n 4.7,\n 4.8,\n 5.4,\n 5.2,\n 5.5,\n 4.9,\n 5.0,\n 5.5,\n 4.9,\n 4.4,\n 5.1,\n 5.0,\n 4.5,\n 4.4,\n 5.0,\n 5.1,\n 4.8,\n 5.1,\n 4.6,\n 5.3,\n 5.0,\n 7.0,\n 6.4,\n 6.9,\n 5.5,\n 6.5,\n 5.7,\n 6.3,\n 4.9,\n 6.6,\n 5.2,\n 5.0,\n 5.9,\n 6.0,\n 6.1,\n 5.6,\n 6.7,\n 5.6,\n 5.8,\n 6.2,\n 5.6,\n 5.9,\n 6.1,\n 6.3,\n 6.1,\n 6.4,\n 6.6,\n 6.8,\n 6.7,\n 6.0,\n 5.7,\n 5.5,\n 5.5,\n 5.8,\n 6.0,\n 5.4,\n 6.0,\n 6.7,\n 6.3,\n 5.6,\n 5.5,\n 5.5,\n 6.1,\n 5.8,\n 5.0,\n 5.6,\n 5.7,\n 5.7,\n 6.2,\n 5.1,\n 5.7,\n 6.3,\n 5.8,\n 7.1,\n 6.3,\n 6.5,\n 7.6,\n 4.9,\n 7.3,\n 6.7,\n 7.2,\n 6.5,\n 6.4,\n 6.8,\n 5.7,\n 5.8,\n 6.4,\n 6.5,\n 7.7,\n 7.7,\n 6.0,\n 6.9,\n 5.6,\n 7.7,\n 6.3,\n 6.7,\n 7.2,\n 6.2,\n 6.1,\n 6.4,\n 7.2,\n 7.4,\n 7.9,\n 6.4,\n 6.3,\n 6.1,\n 7.7,\n 6.3,\n 6.4,\n 6.0,\n 6.9,\n 6.7,\n 6.9,\n 5.8,\n 6.8,\n 6.7,\n 6.7,\n 6.3,\n 6.5,\n 6.2,\n 5.9]"
     },
     "execution_count": 4,
     "metadata": {},
     "output_type": "execute_result"
    }
   ],
   "source": [
    "s_length = []\n",
    "s_witdh = []\n",
    "p_length = []\n",
    "p_width = []\n",
    "iris = []\n",
    "\n",
    "\n",
    "for sepal_length, sepal_width, petal_length, petal_width, b_iris in blumen:   #titel in File\n",
    "    s_length.append(sepal_length)\n",
    "    s_witdh.append(sepal_width)\n",
    "    p_length.append(petal_length)\n",
    "    p_width.append(petal_width)\n",
    "    iris.append(b_iris)\n",
    "\n",
    "s_length"
   ],
   "metadata": {
    "collapsed": false
   }
  },
  {
   "cell_type": "code",
   "execution_count": 5,
   "outputs": [
    {
     "data": {
      "text/plain": "     Sepallänge  Sepalweite  Petallänge  Petalweite         Irisart\n0           5.1         3.5         1.4         0.2     Iris-setosa\n1           4.9         3.0         1.4         0.2     Iris-setosa\n2           4.7         3.2         1.3         0.2     Iris-setosa\n3           4.6         3.1         1.5         0.2     Iris-setosa\n4           5.0         3.6         1.4         0.2     Iris-setosa\n..          ...         ...         ...         ...             ...\n145         6.7         3.0         5.2         2.3  Iris-virginica\n146         6.3         2.5         5.0         1.9  Iris-virginica\n147         6.5         3.0         5.2         2.0  Iris-virginica\n148         6.2         3.4         5.4         2.3  Iris-virginica\n149         5.9         3.0         5.1         1.8  Iris-virginica\n\n[150 rows x 5 columns]",
      "text/html": "<div>\n<style scoped>\n    .dataframe tbody tr th:only-of-type {\n        vertical-align: middle;\n    }\n\n    .dataframe tbody tr th {\n        vertical-align: top;\n    }\n\n    .dataframe thead th {\n        text-align: right;\n    }\n</style>\n<table border=\"1\" class=\"dataframe\">\n  <thead>\n    <tr style=\"text-align: right;\">\n      <th></th>\n      <th>Sepallänge</th>\n      <th>Sepalweite</th>\n      <th>Petallänge</th>\n      <th>Petalweite</th>\n      <th>Irisart</th>\n    </tr>\n  </thead>\n  <tbody>\n    <tr>\n      <th>0</th>\n      <td>5.1</td>\n      <td>3.5</td>\n      <td>1.4</td>\n      <td>0.2</td>\n      <td>Iris-setosa</td>\n    </tr>\n    <tr>\n      <th>1</th>\n      <td>4.9</td>\n      <td>3.0</td>\n      <td>1.4</td>\n      <td>0.2</td>\n      <td>Iris-setosa</td>\n    </tr>\n    <tr>\n      <th>2</th>\n      <td>4.7</td>\n      <td>3.2</td>\n      <td>1.3</td>\n      <td>0.2</td>\n      <td>Iris-setosa</td>\n    </tr>\n    <tr>\n      <th>3</th>\n      <td>4.6</td>\n      <td>3.1</td>\n      <td>1.5</td>\n      <td>0.2</td>\n      <td>Iris-setosa</td>\n    </tr>\n    <tr>\n      <th>4</th>\n      <td>5.0</td>\n      <td>3.6</td>\n      <td>1.4</td>\n      <td>0.2</td>\n      <td>Iris-setosa</td>\n    </tr>\n    <tr>\n      <th>...</th>\n      <td>...</td>\n      <td>...</td>\n      <td>...</td>\n      <td>...</td>\n      <td>...</td>\n    </tr>\n    <tr>\n      <th>145</th>\n      <td>6.7</td>\n      <td>3.0</td>\n      <td>5.2</td>\n      <td>2.3</td>\n      <td>Iris-virginica</td>\n    </tr>\n    <tr>\n      <th>146</th>\n      <td>6.3</td>\n      <td>2.5</td>\n      <td>5.0</td>\n      <td>1.9</td>\n      <td>Iris-virginica</td>\n    </tr>\n    <tr>\n      <th>147</th>\n      <td>6.5</td>\n      <td>3.0</td>\n      <td>5.2</td>\n      <td>2.0</td>\n      <td>Iris-virginica</td>\n    </tr>\n    <tr>\n      <th>148</th>\n      <td>6.2</td>\n      <td>3.4</td>\n      <td>5.4</td>\n      <td>2.3</td>\n      <td>Iris-virginica</td>\n    </tr>\n    <tr>\n      <th>149</th>\n      <td>5.9</td>\n      <td>3.0</td>\n      <td>5.1</td>\n      <td>1.8</td>\n      <td>Iris-virginica</td>\n    </tr>\n  </tbody>\n</table>\n<p>150 rows × 5 columns</p>\n</div>"
     },
     "execution_count": 5,
     "metadata": {},
     "output_type": "execute_result"
    }
   ],
   "source": [
    "iris_dict = {\"Sepallänge\" : s_length,\n",
    "                \"Sepalweite\" : s_witdh,\n",
    "                \"Petallänge\" : p_length,\n",
    "                \"Petalweite\" : p_width,\n",
    "                \"Irisart\" : iris}\n",
    "iris_df = pd.DataFrame(iris_dict)\n",
    "\n",
    "iris_df"
   ],
   "metadata": {
    "collapsed": false
   }
  },
  {
   "cell_type": "code",
   "execution_count": 6,
   "outputs": [
    {
     "data": {
      "text/plain": "       Sepallänge  Sepalweite  Petallänge  Petalweite\ncount    50.00000   50.000000   50.000000    50.00000\nmean      5.00600    3.418000    1.464000     0.24400\nstd       0.35249    0.381024    0.173511     0.10721\nmin       4.30000    2.300000    1.000000     0.10000\n25%       4.80000    3.125000    1.400000     0.20000\n50%       5.00000    3.400000    1.500000     0.20000\n75%       5.20000    3.675000    1.575000     0.30000\nmax       5.80000    4.400000    1.900000     0.60000",
      "text/html": "<div>\n<style scoped>\n    .dataframe tbody tr th:only-of-type {\n        vertical-align: middle;\n    }\n\n    .dataframe tbody tr th {\n        vertical-align: top;\n    }\n\n    .dataframe thead th {\n        text-align: right;\n    }\n</style>\n<table border=\"1\" class=\"dataframe\">\n  <thead>\n    <tr style=\"text-align: right;\">\n      <th></th>\n      <th>Sepallänge</th>\n      <th>Sepalweite</th>\n      <th>Petallänge</th>\n      <th>Petalweite</th>\n    </tr>\n  </thead>\n  <tbody>\n    <tr>\n      <th>count</th>\n      <td>50.00000</td>\n      <td>50.000000</td>\n      <td>50.000000</td>\n      <td>50.00000</td>\n    </tr>\n    <tr>\n      <th>mean</th>\n      <td>5.00600</td>\n      <td>3.418000</td>\n      <td>1.464000</td>\n      <td>0.24400</td>\n    </tr>\n    <tr>\n      <th>std</th>\n      <td>0.35249</td>\n      <td>0.381024</td>\n      <td>0.173511</td>\n      <td>0.10721</td>\n    </tr>\n    <tr>\n      <th>min</th>\n      <td>4.30000</td>\n      <td>2.300000</td>\n      <td>1.000000</td>\n      <td>0.10000</td>\n    </tr>\n    <tr>\n      <th>25%</th>\n      <td>4.80000</td>\n      <td>3.125000</td>\n      <td>1.400000</td>\n      <td>0.20000</td>\n    </tr>\n    <tr>\n      <th>50%</th>\n      <td>5.00000</td>\n      <td>3.400000</td>\n      <td>1.500000</td>\n      <td>0.20000</td>\n    </tr>\n    <tr>\n      <th>75%</th>\n      <td>5.20000</td>\n      <td>3.675000</td>\n      <td>1.575000</td>\n      <td>0.30000</td>\n    </tr>\n    <tr>\n      <th>max</th>\n      <td>5.80000</td>\n      <td>4.400000</td>\n      <td>1.900000</td>\n      <td>0.60000</td>\n    </tr>\n  </tbody>\n</table>\n</div>"
     },
     "execution_count": 6,
     "metadata": {},
     "output_type": "execute_result"
    }
   ],
   "source": [
    "iris_df[iris_df[\"Irisart\"] == \"Iris-setosa\"].describe()"
   ],
   "metadata": {
    "collapsed": false
   }
  },
  {
   "cell_type": "code",
   "execution_count": 7,
   "outputs": [
    {
     "data": {
      "text/plain": "       Sepallänge  Sepalweite  Petallänge  Petalweite\ncount   50.000000   50.000000   50.000000   50.000000\nmean     5.936000    2.770000    4.260000    1.326000\nstd      0.516171    0.313798    0.469911    0.197753\nmin      4.900000    2.000000    3.000000    1.000000\n25%      5.600000    2.525000    4.000000    1.200000\n50%      5.900000    2.800000    4.350000    1.300000\n75%      6.300000    3.000000    4.600000    1.500000\nmax      7.000000    3.400000    5.100000    1.800000",
      "text/html": "<div>\n<style scoped>\n    .dataframe tbody tr th:only-of-type {\n        vertical-align: middle;\n    }\n\n    .dataframe tbody tr th {\n        vertical-align: top;\n    }\n\n    .dataframe thead th {\n        text-align: right;\n    }\n</style>\n<table border=\"1\" class=\"dataframe\">\n  <thead>\n    <tr style=\"text-align: right;\">\n      <th></th>\n      <th>Sepallänge</th>\n      <th>Sepalweite</th>\n      <th>Petallänge</th>\n      <th>Petalweite</th>\n    </tr>\n  </thead>\n  <tbody>\n    <tr>\n      <th>count</th>\n      <td>50.000000</td>\n      <td>50.000000</td>\n      <td>50.000000</td>\n      <td>50.000000</td>\n    </tr>\n    <tr>\n      <th>mean</th>\n      <td>5.936000</td>\n      <td>2.770000</td>\n      <td>4.260000</td>\n      <td>1.326000</td>\n    </tr>\n    <tr>\n      <th>std</th>\n      <td>0.516171</td>\n      <td>0.313798</td>\n      <td>0.469911</td>\n      <td>0.197753</td>\n    </tr>\n    <tr>\n      <th>min</th>\n      <td>4.900000</td>\n      <td>2.000000</td>\n      <td>3.000000</td>\n      <td>1.000000</td>\n    </tr>\n    <tr>\n      <th>25%</th>\n      <td>5.600000</td>\n      <td>2.525000</td>\n      <td>4.000000</td>\n      <td>1.200000</td>\n    </tr>\n    <tr>\n      <th>50%</th>\n      <td>5.900000</td>\n      <td>2.800000</td>\n      <td>4.350000</td>\n      <td>1.300000</td>\n    </tr>\n    <tr>\n      <th>75%</th>\n      <td>6.300000</td>\n      <td>3.000000</td>\n      <td>4.600000</td>\n      <td>1.500000</td>\n    </tr>\n    <tr>\n      <th>max</th>\n      <td>7.000000</td>\n      <td>3.400000</td>\n      <td>5.100000</td>\n      <td>1.800000</td>\n    </tr>\n  </tbody>\n</table>\n</div>"
     },
     "execution_count": 7,
     "metadata": {},
     "output_type": "execute_result"
    }
   ],
   "source": [
    "iris_df[iris_df[\"Irisart\"] == \"Iris-versicolor\"].describe()"
   ],
   "metadata": {
    "collapsed": false
   }
  },
  {
   "cell_type": "code",
   "execution_count": 8,
   "outputs": [
    {
     "data": {
      "text/plain": "       Sepallänge  Sepalweite  Petallänge  Petalweite\ncount    50.00000   50.000000   50.000000    50.00000\nmean      6.58800    2.974000    5.552000     2.02600\nstd       0.63588    0.322497    0.551895     0.27465\nmin       4.90000    2.200000    4.500000     1.40000\n25%       6.22500    2.800000    5.100000     1.80000\n50%       6.50000    3.000000    5.550000     2.00000\n75%       6.90000    3.175000    5.875000     2.30000\nmax       7.90000    3.800000    6.900000     2.50000",
      "text/html": "<div>\n<style scoped>\n    .dataframe tbody tr th:only-of-type {\n        vertical-align: middle;\n    }\n\n    .dataframe tbody tr th {\n        vertical-align: top;\n    }\n\n    .dataframe thead th {\n        text-align: right;\n    }\n</style>\n<table border=\"1\" class=\"dataframe\">\n  <thead>\n    <tr style=\"text-align: right;\">\n      <th></th>\n      <th>Sepallänge</th>\n      <th>Sepalweite</th>\n      <th>Petallänge</th>\n      <th>Petalweite</th>\n    </tr>\n  </thead>\n  <tbody>\n    <tr>\n      <th>count</th>\n      <td>50.00000</td>\n      <td>50.000000</td>\n      <td>50.000000</td>\n      <td>50.00000</td>\n    </tr>\n    <tr>\n      <th>mean</th>\n      <td>6.58800</td>\n      <td>2.974000</td>\n      <td>5.552000</td>\n      <td>2.02600</td>\n    </tr>\n    <tr>\n      <th>std</th>\n      <td>0.63588</td>\n      <td>0.322497</td>\n      <td>0.551895</td>\n      <td>0.27465</td>\n    </tr>\n    <tr>\n      <th>min</th>\n      <td>4.90000</td>\n      <td>2.200000</td>\n      <td>4.500000</td>\n      <td>1.40000</td>\n    </tr>\n    <tr>\n      <th>25%</th>\n      <td>6.22500</td>\n      <td>2.800000</td>\n      <td>5.100000</td>\n      <td>1.80000</td>\n    </tr>\n    <tr>\n      <th>50%</th>\n      <td>6.50000</td>\n      <td>3.000000</td>\n      <td>5.550000</td>\n      <td>2.00000</td>\n    </tr>\n    <tr>\n      <th>75%</th>\n      <td>6.90000</td>\n      <td>3.175000</td>\n      <td>5.875000</td>\n      <td>2.30000</td>\n    </tr>\n    <tr>\n      <th>max</th>\n      <td>7.90000</td>\n      <td>3.800000</td>\n      <td>6.900000</td>\n      <td>2.50000</td>\n    </tr>\n  </tbody>\n</table>\n</div>"
     },
     "execution_count": 8,
     "metadata": {},
     "output_type": "execute_result"
    }
   ],
   "source": [
    "iris_df[iris_df[\"Irisart\"] == \"Iris-virginica\"].describe()"
   ],
   "metadata": {
    "collapsed": false
   }
  },
  {
   "cell_type": "code",
   "execution_count": null,
   "outputs": [],
   "source": [],
   "metadata": {
    "collapsed": false
   }
  }
 ],
 "metadata": {
  "kernelspec": {
   "display_name": "Python 3",
   "language": "python",
   "name": "python3"
  },
  "language_info": {
   "codemirror_mode": {
    "name": "ipython",
    "version": 2
   },
   "file_extension": ".py",
   "mimetype": "text/x-python",
   "name": "python",
   "nbconvert_exporter": "python",
   "pygments_lexer": "ipython2",
   "version": "2.7.6"
  }
 },
 "nbformat": 4,
 "nbformat_minor": 0
}
